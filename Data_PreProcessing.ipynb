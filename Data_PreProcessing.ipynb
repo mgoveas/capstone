{
  "nbformat": 4,
  "nbformat_minor": 0,
  "metadata": {
    "colab": {
      "provenance": []
    },
    "kernelspec": {
      "name": "python3",
      "display_name": "Python 3"
    },
    "language_info": {
      "name": "python"
    }
  },
  "cells": [
    {
      "cell_type": "code",
      "execution_count": 1,
      "metadata": {
        "id": "FKeGvu37yH96"
      },
      "outputs": [],
      "source": [
        "# Import packages\n",
        "import os\n",
        "import pandas as pd"
      ]
    },
    {
      "cell_type": "code",
      "source": [
        "# Define file directories\n",
        "MOVIELENS_DIR = 'dat'\n",
        "USER_DATA_FILE = 'users.dat'\n",
        "MOVIE_DATA_FILE = 'movies.dat'\n",
        "RATING_DATA_FILE = 'ratings.dat'\n",
        "\n",
        "# Define csv files to be saved into\n",
        "USERS_CSV_FILE = 'users.csv'\n",
        "MOVIES_CSV_FILE = 'movies.csv'\n",
        "RATINGS_CSV_FILE = 'ratings.csv'"
      ],
      "metadata": {
        "id": "H3z-2JHc0_01"
      },
      "execution_count": 3,
      "outputs": []
    },
    {
      "cell_type": "code",
      "source": [
        "# Specify User's Age and Occupation Column\n",
        "AGES = { 1: \"Under 18\", 18: \"18-24\", 25: \"25-34\", 35: \"35-44\", 45: \"45-49\", 50: \"50-55\", 56: \"56+\" }\n",
        "OCCUPATIONS = { 0: \"other or not specified\", 1: \"academic/educator\", 2: \"artist\", 3: \"clerical/admin\",\n",
        "                4: \"college/grad student\", 5: \"customer service\", 6: \"doctor/health care\",\n",
        "                7: \"executive/managerial\", 8: \"farmer\", 9: \"homemaker\", 10: \"K-12 student\", 11: \"lawyer\",\n",
        "                12: \"programmer\", 13: \"retired\", 14: \"sales/marketing\", 15: \"scientist\", 16: \"self-employed\",\n",
        "                17: \"technician/engineer\", 18: \"tradesman/craftsman\", 19: \"unemployed\", 20: \"writer\" }"
      ],
      "metadata": {
        "id": "LaBUTn-i1FaA"
      },
      "execution_count": 4,
      "outputs": []
    },
    {
      "cell_type": "code",
      "source": [
        "# Read the Ratings File\n",
        "ratings = pd.read_csv(os.path.join(MOVIELENS_DIR, RATING_DATA_FILE),\n",
        "                    sep='::',\n",
        "                    engine='python',\n",
        "                    encoding='latin-1',\n",
        "                    names=['user_id', 'movie_id', 'rating', 'timestamp'])\n",
        "\n",
        "# Set max_userid to the maximum user_id in the ratings\n",
        "max_userid = ratings['user_id'].drop_duplicates().max()\n",
        "# Set max_movieid to the maximum movie_id in the ratings\n",
        "max_movieid = ratings['movie_id'].drop_duplicates().max()\n",
        "\n",
        "print (\"#{ratings} ratings loaded\", format(len(ratings)))\n",
        "\n",
        "# Save into ratings.csv\n",
        "ratings.to_csv(RATINGS_CSV_FILE,\n",
        "               sep='\\t',\n",
        "               header=True,\n",
        "               encoding='latin-1',\n",
        "               columns=['user_id', 'movie_id', 'rating', 'timestamp'])\n",
        "print ('Saved to ratings csv file')"
      ],
      "metadata": {
        "colab": {
          "base_uri": "https://localhost:8080/"
        },
        "id": "Izm3hR3c1eoF",
        "outputId": "56ffb0e0-59b4-48b9-8be6-c3bd6b540e75"
      },
      "execution_count": 11,
      "outputs": [
        {
          "output_type": "stream",
          "name": "stdout",
          "text": [
            "#{ratings} ratings loaded 1000209\n",
            "Saved to ratings csv file\n"
          ]
        }
      ]
    },
    {
      "cell_type": "code",
      "source": [
        "# Read the Users File\n",
        "users = pd.read_csv(os.path.join(MOVIELENS_DIR, USER_DATA_FILE),\n",
        "                    sep='::',\n",
        "                    engine='python',\n",
        "                    encoding='latin-1',\n",
        "                    names=['user_id', 'gender', 'age', 'occupation', 'zipcode'])\n",
        "users['age_desc'] = users['age'].apply(lambda x: AGES[x])\n",
        "users['occ_desc'] = users['occupation'].apply(lambda x: OCCUPATIONS[x])\n",
        "\n",
        "# Save into users.csv\n",
        "users.to_csv(USERS_CSV_FILE,\n",
        "             sep='\\t',\n",
        "             header=True,\n",
        "             encoding='latin-1',\n",
        "             columns=['user_id', 'gender', 'age', 'occupation', 'zipcode', 'age_desc', 'occ_desc'])\n",
        "print ('Saved to users csv file')"
      ],
      "metadata": {
        "colab": {
          "base_uri": "https://localhost:8080/"
        },
        "id": "-_zTY5k62g_1",
        "outputId": "2925d5bc-edc0-4ae9-9a0e-d8ae4d82ce84"
      },
      "execution_count": 14,
      "outputs": [
        {
          "output_type": "stream",
          "name": "stdout",
          "text": [
            "Saved to users csv file\n"
          ]
        }
      ]
    },
    {
      "cell_type": "code",
      "source": [
        "# Read the Movies File\n",
        "movies = pd.read_csv(os.path.join(MOVIELENS_DIR, MOVIE_DATA_FILE),\n",
        "                    sep='::',\n",
        "                    engine='python',\n",
        "                    encoding='latin-1',\n",
        "                    names=['movie_id', 'title', 'genres'])\n",
        "\n",
        "# Save into movies.csv\n",
        "movies.to_csv(MOVIES_CSV_FILE,\n",
        "              sep='\\t',\n",
        "              header=True,\n",
        "              columns=['movie_id', 'title', 'genres'])\n",
        "print ('Saved to movies csv file')"
      ],
      "metadata": {
        "colab": {
          "base_uri": "https://localhost:8080/"
        },
        "id": "kRu5QKl825K9",
        "outputId": "8a09b94e-ad44-4593-8e89-af6e79cca65f"
      },
      "execution_count": 16,
      "outputs": [
        {
          "output_type": "stream",
          "name": "stdout",
          "text": [
            "Saved to movies csv file\n"
          ]
        }
      ]
    }
  ]
}